{
 "cells": [
  {
   "cell_type": "code",
   "execution_count": 1,
   "id": "2e6a2f3a",
   "metadata": {},
   "outputs": [],
   "source": [
    "from bs4 import BeautifulSoup\n",
    "import requests\n",
    "import pandas as pd\n",
    "\n",
    "import numpy as np\n",
    "\n",
    "import seaborn as sns\n",
    "import matplotlib.pyplot as plt\n",
    "\n",
    "from sklearn.pipeline import make_pipeline\n",
    "from sklearn.feature_extraction.text import CountVectorizer, TfidfVectorizer\n",
    "from sklearn.decomposition import TruncatedSVD\n",
    "from sklearn.preprocessing import Normalizer\n",
    "from sklearn.neighbors import KDTree"
   ]
  },
  {
   "cell_type": "code",
   "execution_count": 2,
   "id": "46166952",
   "metadata": {},
   "outputs": [],
   "source": [
    "url= 'https://www.toptal.com/faq'\n",
    "\n",
    "soup = BeautifulSoup(requests.get(url).text, \"html.parser\")"
   ]
  },
  {
   "cell_type": "code",
   "execution_count": 3,
   "id": "e24ed977",
   "metadata": {},
   "outputs": [],
   "source": [
    "questions = []\n",
    "answers = []\n",
    "\n",
    "a_selector = 'body > main > section > section._1K1faYl9 > div '\n",
    "q_selector = 'body > main > section > section > h3._3r3EnTQQ'\n",
    "\n",
    "for x in soup.select(a_selector):\n",
    "    answers.append(x.text.strip())\n",
    "\n",
    "for x in soup.select(q_selector):\n",
    "    questions.append(x.text.strip())"
   ]
  },
  {
   "cell_type": "code",
   "execution_count": 4,
   "id": "f8a1377c",
   "metadata": {},
   "outputs": [
    {
     "name": "stdout",
     "output_type": "stream",
     "text": [
      "17\n",
      "17\n"
     ]
    },
    {
     "data": {
      "text/html": [
       "<div>\n",
       "<style scoped>\n",
       "    .dataframe tbody tr th:only-of-type {\n",
       "        vertical-align: middle;\n",
       "    }\n",
       "\n",
       "    .dataframe tbody tr th {\n",
       "        vertical-align: top;\n",
       "    }\n",
       "\n",
       "    .dataframe thead th {\n",
       "        text-align: right;\n",
       "    }\n",
       "</style>\n",
       "<table border=\"1\" class=\"dataframe\">\n",
       "  <thead>\n",
       "    <tr style=\"text-align: right;\">\n",
       "      <th></th>\n",
       "      <th>q</th>\n",
       "      <th>a</th>\n",
       "    </tr>\n",
       "  </thead>\n",
       "  <tbody>\n",
       "    <tr>\n",
       "      <th>0</th>\n",
       "      <td>Are there any upfront recruiting or contractua...</td>\n",
       "      <td>We require an initial deposit of $500 that wil...</td>\n",
       "    </tr>\n",
       "    <tr>\n",
       "      <th>1</th>\n",
       "      <td>How is the trial period no-risk?</td>\n",
       "      <td>We make sure to start each engagement with a t...</td>\n",
       "    </tr>\n",
       "    <tr>\n",
       "      <th>2</th>\n",
       "      <td>What happens if I’m not satisfied with a Topta...</td>\n",
       "      <td>We allow our clients to begin a trial period w...</td>\n",
       "    </tr>\n",
       "    <tr>\n",
       "      <th>3</th>\n",
       "      <td>How is Toptal different?</td>\n",
       "      <td>Many organizations are faced with the issue of...</td>\n",
       "    </tr>\n",
       "    <tr>\n",
       "      <th>4</th>\n",
       "      <td>Are English skills ever an issue when working ...</td>\n",
       "      <td>No. Each and every Toptal expert writes and sp...</td>\n",
       "    </tr>\n",
       "  </tbody>\n",
       "</table>\n",
       "</div>"
      ],
      "text/plain": [
       "                                                   q   \n",
       "0  Are there any upfront recruiting or contractua...  \\\n",
       "1                   How is the trial period no-risk?   \n",
       "2  What happens if I’m not satisfied with a Topta...   \n",
       "3                           How is Toptal different?   \n",
       "4  Are English skills ever an issue when working ...   \n",
       "\n",
       "                                                   a  \n",
       "0  We require an initial deposit of $500 that wil...  \n",
       "1  We make sure to start each engagement with a t...  \n",
       "2  We allow our clients to begin a trial period w...  \n",
       "3  Many organizations are faced with the issue of...  \n",
       "4  No. Each and every Toptal expert writes and sp...  "
      ]
     },
     "execution_count": 4,
     "metadata": {},
     "output_type": "execute_result"
    }
   ],
   "source": [
    "print(len(questions))\n",
    "print(len(answers))\n",
    "\n",
    "data = pd.DataFrame({'q':questions, 'a':answers})\n",
    "data.head()"
   ]
  },
  {
   "cell_type": "code",
   "execution_count": 5,
   "id": "56f4c664",
   "metadata": {},
   "outputs": [],
   "source": [
    "vectorizer = make_pipeline(TfidfVectorizer(), TruncatedSVD(n_components=100), Normalizer())"
   ]
  },
  {
   "cell_type": "code",
   "execution_count": 6,
   "id": "64494f94",
   "metadata": {},
   "outputs": [
    {
     "data": {
      "text/html": [
       "<style>#sk-container-id-1 {color: black;}#sk-container-id-1 pre{padding: 0;}#sk-container-id-1 div.sk-toggleable {background-color: white;}#sk-container-id-1 label.sk-toggleable__label {cursor: pointer;display: block;width: 100%;margin-bottom: 0;padding: 0.3em;box-sizing: border-box;text-align: center;}#sk-container-id-1 label.sk-toggleable__label-arrow:before {content: \"▸\";float: left;margin-right: 0.25em;color: #696969;}#sk-container-id-1 label.sk-toggleable__label-arrow:hover:before {color: black;}#sk-container-id-1 div.sk-estimator:hover label.sk-toggleable__label-arrow:before {color: black;}#sk-container-id-1 div.sk-toggleable__content {max-height: 0;max-width: 0;overflow: hidden;text-align: left;background-color: #f0f8ff;}#sk-container-id-1 div.sk-toggleable__content pre {margin: 0.2em;color: black;border-radius: 0.25em;background-color: #f0f8ff;}#sk-container-id-1 input.sk-toggleable__control:checked~div.sk-toggleable__content {max-height: 200px;max-width: 100%;overflow: auto;}#sk-container-id-1 input.sk-toggleable__control:checked~label.sk-toggleable__label-arrow:before {content: \"▾\";}#sk-container-id-1 div.sk-estimator input.sk-toggleable__control:checked~label.sk-toggleable__label {background-color: #d4ebff;}#sk-container-id-1 div.sk-label input.sk-toggleable__control:checked~label.sk-toggleable__label {background-color: #d4ebff;}#sk-container-id-1 input.sk-hidden--visually {border: 0;clip: rect(1px 1px 1px 1px);clip: rect(1px, 1px, 1px, 1px);height: 1px;margin: -1px;overflow: hidden;padding: 0;position: absolute;width: 1px;}#sk-container-id-1 div.sk-estimator {font-family: monospace;background-color: #f0f8ff;border: 1px dotted black;border-radius: 0.25em;box-sizing: border-box;margin-bottom: 0.5em;}#sk-container-id-1 div.sk-estimator:hover {background-color: #d4ebff;}#sk-container-id-1 div.sk-parallel-item::after {content: \"\";width: 100%;border-bottom: 1px solid gray;flex-grow: 1;}#sk-container-id-1 div.sk-label:hover label.sk-toggleable__label {background-color: #d4ebff;}#sk-container-id-1 div.sk-serial::before {content: \"\";position: absolute;border-left: 1px solid gray;box-sizing: border-box;top: 0;bottom: 0;left: 50%;z-index: 0;}#sk-container-id-1 div.sk-serial {display: flex;flex-direction: column;align-items: center;background-color: white;padding-right: 0.2em;padding-left: 0.2em;position: relative;}#sk-container-id-1 div.sk-item {position: relative;z-index: 1;}#sk-container-id-1 div.sk-parallel {display: flex;align-items: stretch;justify-content: center;background-color: white;position: relative;}#sk-container-id-1 div.sk-item::before, #sk-container-id-1 div.sk-parallel-item::before {content: \"\";position: absolute;border-left: 1px solid gray;box-sizing: border-box;top: 0;bottom: 0;left: 50%;z-index: -1;}#sk-container-id-1 div.sk-parallel-item {display: flex;flex-direction: column;z-index: 1;position: relative;background-color: white;}#sk-container-id-1 div.sk-parallel-item:first-child::after {align-self: flex-end;width: 50%;}#sk-container-id-1 div.sk-parallel-item:last-child::after {align-self: flex-start;width: 50%;}#sk-container-id-1 div.sk-parallel-item:only-child::after {width: 0;}#sk-container-id-1 div.sk-dashed-wrapped {border: 1px dashed gray;margin: 0 0.4em 0.5em 0.4em;box-sizing: border-box;padding-bottom: 0.4em;background-color: white;}#sk-container-id-1 div.sk-label label {font-family: monospace;font-weight: bold;display: inline-block;line-height: 1.2em;}#sk-container-id-1 div.sk-label-container {text-align: center;}#sk-container-id-1 div.sk-container {/* jupyter's `normalize.less` sets `[hidden] { display: none; }` but bootstrap.min.css set `[hidden] { display: none !important; }` so we also need the `!important` here to be able to override the default hidden behavior on the sphinx rendered scikit-learn.org. See: https://github.com/scikit-learn/scikit-learn/issues/21755 */display: inline-block !important;position: relative;}#sk-container-id-1 div.sk-text-repr-fallback {display: none;}</style><div id=\"sk-container-id-1\" class=\"sk-top-container\"><div class=\"sk-text-repr-fallback\"><pre>Pipeline(steps=[(&#x27;tfidfvectorizer&#x27;, TfidfVectorizer()),\n",
       "                (&#x27;truncatedsvd&#x27;, TruncatedSVD(n_components=100)),\n",
       "                (&#x27;normalizer&#x27;, Normalizer())])</pre><b>In a Jupyter environment, please rerun this cell to show the HTML representation or trust the notebook. <br />On GitHub, the HTML representation is unable to render, please try loading this page with nbviewer.org.</b></div><div class=\"sk-container\" hidden><div class=\"sk-item sk-dashed-wrapped\"><div class=\"sk-label-container\"><div class=\"sk-label sk-toggleable\"><input class=\"sk-toggleable__control sk-hidden--visually\" id=\"sk-estimator-id-1\" type=\"checkbox\" ><label for=\"sk-estimator-id-1\" class=\"sk-toggleable__label sk-toggleable__label-arrow\">Pipeline</label><div class=\"sk-toggleable__content\"><pre>Pipeline(steps=[(&#x27;tfidfvectorizer&#x27;, TfidfVectorizer()),\n",
       "                (&#x27;truncatedsvd&#x27;, TruncatedSVD(n_components=100)),\n",
       "                (&#x27;normalizer&#x27;, Normalizer())])</pre></div></div></div><div class=\"sk-serial\"><div class=\"sk-item\"><div class=\"sk-estimator sk-toggleable\"><input class=\"sk-toggleable__control sk-hidden--visually\" id=\"sk-estimator-id-2\" type=\"checkbox\" ><label for=\"sk-estimator-id-2\" class=\"sk-toggleable__label sk-toggleable__label-arrow\">TfidfVectorizer</label><div class=\"sk-toggleable__content\"><pre>TfidfVectorizer()</pre></div></div></div><div class=\"sk-item\"><div class=\"sk-estimator sk-toggleable\"><input class=\"sk-toggleable__control sk-hidden--visually\" id=\"sk-estimator-id-3\" type=\"checkbox\" ><label for=\"sk-estimator-id-3\" class=\"sk-toggleable__label sk-toggleable__label-arrow\">TruncatedSVD</label><div class=\"sk-toggleable__content\"><pre>TruncatedSVD(n_components=100)</pre></div></div></div><div class=\"sk-item\"><div class=\"sk-estimator sk-toggleable\"><input class=\"sk-toggleable__control sk-hidden--visually\" id=\"sk-estimator-id-4\" type=\"checkbox\" ><label for=\"sk-estimator-id-4\" class=\"sk-toggleable__label sk-toggleable__label-arrow\">Normalizer</label><div class=\"sk-toggleable__content\"><pre>Normalizer()</pre></div></div></div></div></div></div></div>"
      ],
      "text/plain": [
       "Pipeline(steps=[('tfidfvectorizer', TfidfVectorizer()),\n",
       "                ('truncatedsvd', TruncatedSVD(n_components=100)),\n",
       "                ('normalizer', Normalizer())])"
      ]
     },
     "execution_count": 6,
     "metadata": {},
     "output_type": "execute_result"
    }
   ],
   "source": [
    "vectorizer.fit(pd.concat([data.q, data.a]))"
   ]
  },
  {
   "cell_type": "code",
   "execution_count": 7,
   "id": "78155215",
   "metadata": {},
   "outputs": [],
   "source": [
    "vectors = vectorizer.transform(data.q)"
   ]
  },
  {
   "cell_type": "code",
   "execution_count": 8,
   "id": "bfa0937d",
   "metadata": {},
   "outputs": [
    {
     "data": {
      "text/plain": [
       "array([ 7.54691752e-02, -1.25717402e-02,  6.53698532e-02,  3.60078198e-02,\n",
       "       -3.05375594e-01,  1.02691349e-01, -1.75892407e-01, -1.94839287e-01,\n",
       "       -7.66138232e-02,  5.80294384e-01,  3.45992153e-01,  9.40694305e-03,\n",
       "       -2.66489779e-04,  9.76987003e-02, -8.16484850e-02,  1.63595787e-01,\n",
       "        4.79086141e-01,  1.01183413e-01, -3.50946892e-04,  5.97702345e-02,\n",
       "       -1.29137666e-01, -1.02070936e-01, -1.06678284e-01,  2.67980014e-02,\n",
       "        9.97766799e-02, -3.37748636e-02,  3.23366559e-02, -5.94705205e-03,\n",
       "       -8.30275621e-02,  7.62528824e-02,  7.08876774e-03, -3.54801070e-03,\n",
       "       -1.80641234e-02,  5.18540595e-02])"
      ]
     },
     "execution_count": 8,
     "metadata": {},
     "output_type": "execute_result"
    }
   ],
   "source": [
    "vectors[0]"
   ]
  },
  {
   "cell_type": "code",
   "execution_count": 9,
   "id": "f6f80667",
   "metadata": {},
   "outputs": [
    {
     "data": {
      "text/plain": [
       "(17, 34)"
      ]
     },
     "execution_count": 9,
     "metadata": {},
     "output_type": "execute_result"
    }
   ],
   "source": [
    "vectors.shape"
   ]
  },
  {
   "cell_type": "code",
   "execution_count": 10,
   "id": "d9d08e1a",
   "metadata": {},
   "outputs": [],
   "source": [
    "index = KDTree(vectors)"
   ]
  },
  {
   "cell_type": "code",
   "execution_count": 11,
   "id": "2884c2d9",
   "metadata": {},
   "outputs": [],
   "source": [
    "distances, indices = index.query(vectorizer.transform(['What can I use for payment?']), k=3)"
   ]
  },
  {
   "cell_type": "code",
   "execution_count": 12,
   "id": "cf294f71",
   "metadata": {},
   "outputs": [
    {
     "data": {
      "text/plain": [
       "array([[0.59189449, 1.15648822, 1.17639995]])"
      ]
     },
     "execution_count": 12,
     "metadata": {},
     "output_type": "execute_result"
    }
   ],
   "source": [
    "distances"
   ]
  },
  {
   "cell_type": "code",
   "execution_count": 13,
   "id": "ec49fe11",
   "metadata": {},
   "outputs": [
    {
     "data": {
      "text/plain": [
       "array([[16,  2, 10]], dtype=int64)"
      ]
     },
     "execution_count": 13,
     "metadata": {},
     "output_type": "execute_result"
    }
   ],
   "source": [
    "indices"
   ]
  },
  {
   "cell_type": "code",
   "execution_count": 14,
   "id": "bda3a2ea",
   "metadata": {},
   "outputs": [
    {
     "name": "stdout",
     "output_type": "stream",
     "text": [
      "0.5918944941978405 16 What methods of payment do you accept?\n",
      "1.1564882235137919 2 What happens if I’m not satisfied with a Toptal expert?\n",
      "1.1763999527568623 10 What happens if a Toptal expert is unavailable for the days or times they are scheduled to work with me?\n"
     ]
    }
   ],
   "source": [
    "for d, i in zip(distances[0], indices[0]):\n",
    "    print(d, i, data.q[i])"
   ]
  },
  {
   "cell_type": "code",
   "execution_count": 15,
   "id": "419b888c",
   "metadata": {},
   "outputs": [],
   "source": [
    "distances, indices = index.query(vectorizer.transform(['Where is Toptal located?']), k=3)"
   ]
  },
  {
   "cell_type": "code",
   "execution_count": 16,
   "id": "aabdfcef",
   "metadata": {},
   "outputs": [
    {
     "name": "stdout",
     "output_type": "stream",
     "text": [
      "0.5183400367740291 6 Where are your experts located?\n",
      "0.9226845240730206 7 Where do Toptal experts work?\n",
      "1.1406549609960133 3 How is Toptal different?\n"
     ]
    }
   ],
   "source": [
    "for d, i in zip(distances[0], indices[0]):\n",
    "    print(d, i, data.q[i])"
   ]
  },
  {
   "cell_type": "code",
   "execution_count": 17,
   "id": "fbd33ca8",
   "metadata": {},
   "outputs": [
    {
     "data": {
      "text/plain": [
       "6"
      ]
     },
     "execution_count": 17,
     "metadata": {},
     "output_type": "execute_result"
    }
   ],
   "source": [
    "indices[0][0]"
   ]
  },
  {
   "cell_type": "code",
   "execution_count": 18,
   "id": "6f0b6408",
   "metadata": {},
   "outputs": [],
   "source": [
    "def respond(text):\n",
    "    distances, indices = index.query(vectorizer.transform([text]), k=3)\n",
    "    if distances[0][0] > 0.65:\n",
    "        print(f\"Unfortunately, I cannot answer this question yet. Maybe, you wanted to know '{data['q'][indices[0][0]]}'\")\n",
    "    else:\n",
    "        print(data['a'][indices[0][0]])"
   ]
  },
  {
   "cell_type": "code",
   "execution_count": 19,
   "id": "7d0f69ad",
   "metadata": {},
   "outputs": [
    {
     "name": "stdout",
     "output_type": "stream",
     "text": [
      "Currently, we have experts in over 100 countries, most being located in the Americas and Europe.\n"
     ]
    }
   ],
   "source": [
    "respond('Where is Toptal located?')"
   ]
  },
  {
   "cell_type": "code",
   "execution_count": 20,
   "id": "db74e372",
   "metadata": {},
   "outputs": [
    {
     "name": "stdout",
     "output_type": "stream",
     "text": [
      "Unfortunately, I cannot answer this question yet. Maybe, you wanted to know 'Where do Toptal experts work?'\n"
     ]
    }
   ],
   "source": [
    "respond('Where is the nearest restaurant?')"
   ]
  },
  {
   "cell_type": "code",
   "execution_count": 21,
   "id": "43622c4e",
   "metadata": {},
   "outputs": [
    {
     "name": "stdout",
     "output_type": "stream",
     "text": [
      "We allow our clients to begin a trial period with up to three experts from our network per position. While we rigorously screen all applicants to ensure talent and intelligence, we understand that not every person will be a perfect fit for every company. For this reason, we allow our clients to work with multiple experts for each position before they decide on a candidate with whom they are confident and comfortable.\n"
     ]
    }
   ],
   "source": [
    "respond('What if Toptal expert fails?')"
   ]
  },
  {
   "cell_type": "code",
   "execution_count": 22,
   "id": "5f89a9eb",
   "metadata": {},
   "outputs": [
    {
     "name": "stdout",
     "output_type": "stream",
     "text": [
      "Unfortunately, I cannot answer this question yet. Maybe, you wanted to know 'Can I hire a full-time worker from Toptal and bring him/her into our company?'\n"
     ]
    }
   ],
   "source": [
    "respond('Can I invite Toptal expert to the company?')"
   ]
  },
  {
   "cell_type": "code",
   "execution_count": 23,
   "id": "a9278fe4",
   "metadata": {},
   "outputs": [
    {
     "name": "stdout",
     "output_type": "stream",
     "text": [
      "The client. Toptal’s only business is connecting world-class experts to the clients who want to work with them - not intellectual property. Our contracts provide that all work created by a Toptal expert is the property of the client, not Toptal.\n"
     ]
    }
   ],
   "source": [
    "respond('Who owns the results of work?')"
   ]
  },
  {
   "cell_type": "code",
   "execution_count": 24,
   "id": "2248e4c8",
   "metadata": {},
   "outputs": [
    {
     "name": "stdout",
     "output_type": "stream",
     "text": [
      "The client. Toptal’s only business is connecting world-class experts to the clients who want to work with them - not intellectual property. Our contracts provide that all work created by a Toptal expert is the property of the client, not Toptal.\n"
     ]
    }
   ],
   "source": [
    "respond('Who owns the worker?')"
   ]
  },
  {
   "cell_type": "code",
   "execution_count": 42,
   "id": "4370efc3",
   "metadata": {},
   "outputs": [],
   "source": [
    "class ToptalFAQBot():\n",
    "    def reply(self, text):\n",
    "        self.text = text\n",
    "        distances, indices = index.query(vectorizer.transform([self.text]), k=3)\n",
    "        if distances[0][0] > 0.65:\n",
    "            print(f\"Unfortunately, I cannot answer this question yet. Maybe, you wanted to know '{data['q'][indices[0][0]]}'\")\n",
    "        else:\n",
    "            print(data['a'][indices[0][0]])"
   ]
  },
  {
   "cell_type": "code",
   "execution_count": 43,
   "id": "5921e1eb",
   "metadata": {},
   "outputs": [
    {
     "name": "stdout",
     "output_type": "stream",
     "text": [
      "The client. Toptal’s only business is connecting world-class experts to the clients who want to work with them - not intellectual property. Our contracts provide that all work created by a Toptal expert is the property of the client, not Toptal.\n"
     ]
    }
   ],
   "source": [
    "bot = ToptalFAQBot()\n",
    "bot.reply('Who owns the results of work?')"
   ]
  }
 ],
 "metadata": {
  "kernelspec": {
   "display_name": "Python 3 (ipykernel)",
   "language": "python",
   "name": "python3"
  },
  "language_info": {
   "codemirror_mode": {
    "name": "ipython",
    "version": 3
   },
   "file_extension": ".py",
   "mimetype": "text/x-python",
   "name": "python",
   "nbconvert_exporter": "python",
   "pygments_lexer": "ipython3",
   "version": "3.9.17"
  },
  "toc": {
   "base_numbering": 1,
   "nav_menu": {},
   "number_sections": true,
   "sideBar": true,
   "skip_h1_title": true,
   "title_cell": "Table of Contents",
   "title_sidebar": "Contents",
   "toc_cell": false,
   "toc_position": {},
   "toc_section_display": true,
   "toc_window_display": true
  }
 },
 "nbformat": 4,
 "nbformat_minor": 5
}
